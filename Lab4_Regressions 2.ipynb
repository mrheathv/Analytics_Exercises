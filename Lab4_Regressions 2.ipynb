{
 "cells": [
  {
   "cell_type": "markdown",
   "metadata": {},
   "source": [
    "# Regressions"
   ]
  },
  {
   "cell_type": "code",
   "execution_count": 57,
   "metadata": {},
   "outputs": [],
   "source": [
    "# import packages you will be using in this lab\n",
    "\n",
    "import numpy as np\n",
    "import pandas as pd\n",
    "import matplotlib.pylab as plt\n",
    "from sklearn.linear_model import LogisticRegression\n",
    "from sklearn.model_selection import train_test_split\n",
    "from sklearn.preprocessing import StandardScaler\n",
    "from sklearn.linear_model import LinearRegression\n"
   ]
  },
  {
   "cell_type": "markdown",
   "metadata": {},
   "source": [
    "### Linear Regression\n",
    "\n",
    "\n"
   ]
  },
  {
   "cell_type": "markdown",
   "metadata": {},
   "source": [
    "Now that you have learned how linear regression works, let’s try it on an example of real-world data.\n",
    "\n",
    "Imagine yourself working ss a data analysit for a computer manufacturing company. You are given a dataset on computer sales for each quarter beteen the year 2015 to 2019. The company is relying on you to tell whether the sales is going up, going down, or stayed the same. The company also would like you to predict its sales in 2025. \n",
    "\n",
    "The dataset computersales.csv can be download from Canvas.\n",
    "\n"
   ]
  },
  {
   "cell_type": "code",
   "execution_count": 58,
   "metadata": {},
   "outputs": [
    {
     "name": "stdout",
     "output_type": "stream",
     "text": [
      "   year  quarter  sales\n",
      "0  2015        1   4009\n",
      "1  2015        2   4321\n",
      "2  2015        3   4224\n",
      "3  2015        4   3944\n",
      "4  2016        5   4123\n",
      "year       int64\n",
      "quarter    int64\n",
      "sales      int64\n",
      "dtype: object\n",
      "year       20\n",
      "quarter    20\n",
      "sales      20\n",
      "dtype: int64\n"
     ]
    }
   ],
   "source": [
    "# Create dataframes computer_df from the data and explore the data\n",
    "# Print out the dataframe to visually inspect the data\n",
    "# try other data exploration methods to explore the data\n",
    "\n",
    "computer_df = pd.read_csv('computersales.csv')\n",
    "\n",
    "print(computer_df.head())\n",
    "print(computer_df.dtypes)\n",
    "print(computer_df.count())\n"
   ]
  },
  {
   "cell_type": "code",
   "execution_count": 105,
   "metadata": {},
   "outputs": [
    {
     "name": "stdout",
     "output_type": "stream",
     "text": [
      "year\n",
      "2015    16498\n",
      "2016    17332\n",
      "2017    18335\n",
      "2018    18069\n",
      "2019    18263\n",
      "Name: sales, dtype: int64\n"
     ]
    }
   ],
   "source": [
    "# For now, we care about the total sales of honey per year. \n",
    "# Use the .groupby() method provided by pandas to get the sum of totalsales per year using .sum() function.\n",
    "# Store this in a variable called sales_per_year.\n",
    "# Print the total sales for each year\n",
    "\n",
    "sales_per_year=computer_df.groupby(['year'])['sales'].sum()\n",
    "print(sales_per_year)"
   ]
  },
  {
   "cell_type": "code",
   "execution_count": 109,
   "metadata": {},
   "outputs": [
    {
     "name": "stdout",
     "output_type": "stream",
     "text": [
      "[[2015]\n",
      " [2015]\n",
      " [2015]\n",
      " [2015]\n",
      " [2016]\n",
      " [2016]\n",
      " [2016]\n",
      " [2016]\n",
      " [2017]\n",
      " [2017]\n",
      " [2017]\n",
      " [2017]\n",
      " [2018]\n",
      " [2018]\n",
      " [2018]\n",
      " [2018]\n",
      " [2019]\n",
      " [2019]\n",
      " [2019]\n",
      " [2019]] [4009 4321 4224 3944 4123 4522 4657 4030 4493 4806 4551 4485 4595 4799\n",
      " 4417 4258 4245 4900 4585 4533]\n"
     ]
    }
   ],
   "source": [
    "# Create a variable called X that is the column of years in this sales_per_year DataFrame.\n",
    "# After creating X, dont' forget to reshape it to get it into the right format, using .reshape(-1, 1)\n",
    "# Create a variable called y that is the sales column in the sales_per_year data frame.\n",
    "# print X and y to check on our work.\n",
    "x=computer_df.year.to_numpy().reshape(-1,1)\n",
    "y=computer_df.sales.to_numpy()\n",
    "print(x,y)\n"
   ]
  },
  {
   "cell_type": "code",
   "execution_count": 110,
   "metadata": {},
   "outputs": [
    {
     "data": {
      "text/plain": [
       "Text(0, 0.5, 'Sales')"
      ]
     },
     "execution_count": 110,
     "metadata": {},
     "output_type": "execute_result"
    },
    {
     "data": {
      "image/png": "[encoded data removed]",
      "text/plain": [
       "<Figure size 432x288 with 1 Axes>"
      ]
     },
     "metadata": {
      "needs_background": "light"
     },
     "output_type": "display_data"
    }
   ],
   "source": [
    "# Using plt.scatter(), plot y vs X as a scatterplot.\n",
    "# Put appropriate lables on X-axis and Y-axis\n",
    "# Display the plot to see whether there is linear relationship between the variables.\n",
    "\n",
    "plt.scatter(x,y)\n",
    "plt.title(\"Sales and Year\")\n",
    "plt.xlabel(\"Years\")\n",
    "plt.ylabel(\"Sales\")"
   ]
  },
  {
   "cell_type": "code",
   "execution_count": 126,
   "metadata": {},
   "outputs": [
    {
     "name": "stdout",
     "output_type": "stream",
     "text": [
      "\n",
      "Coefficent Estimate (beta -1) [106.675]\n",
      "\n",
      "Intercept (beta-0) -210738.62500000003\n",
      "\n",
      "R-square is: 0.31889473229014553\n"
     ]
    }
   ],
   "source": [
    "# Create a linear regression model computer_regr.\n",
    "# Fit the model to the data by using .fit(). \n",
    "# Print out the slope of the line and the intercept of the line.\n",
    "# Computer a store predictions from computer_reg and store it in a list called y_predict.\n",
    "# Print out y_predict to check your results.\n",
    "# Calculate and print out R-squre\n",
    "\n",
    "\n",
    "computer_regr=LinearRegression()\n",
    "computer_regr.fit(x,y)\n",
    "\n",
    "print(\"\\nCoefficent Estimate (beta -1)\", computer_regr.coef_)\n",
    "print('\\nIntercept (beta-0)', computer_regr.intercept_)\n",
    "print(\"\\nR-square is:\", computer_regr.score(x,y,sample_weight=None))"
   ]
  },
  {
   "cell_type": "code",
   "execution_count": 127,
   "metadata": {},
   "outputs": [],
   "source": [
    "# Plot y_predict vs X as a line, on top of your scatterplot.\n",
    "\n",
    "y_predicted=computer_regr.predict(x)\n",
    "\n",
    "\n",
    "#plot the line in the same scatter plot\n",
    "\n",
    "\n"
   ]
  },
  {
   "cell_type": "code",
   "execution_count": 128,
   "metadata": {},
   "outputs": [],
   "source": [
    "# Is sales increasing, decreasing, or stay the same?\n",
    "# Following this trend, how would the sales of 2025 be like?\n",
    "# Create a NumPy array called X_future that is the range from 2020 to 2025. Don't forget to reshape it.\n",
    "# Create a list called future_predict to store predictions for the values of X_future.\n",
    "# Print out the list to check your answer\n",
    "\n"
   ]
  },
  {
   "cell_type": "code",
   "execution_count": 129,
   "metadata": {},
   "outputs": [
    {
     "data": {
      "text/plain": [
       "Text(0, 0.5, 'Sales')"
      ]
     },
     "execution_count": 129,
     "metadata": {},
     "output_type": "execute_result"
    },
    {
     "data": {
      "image/png": "[encoded data removed]",
      "text/plain": [
       "<Figure size 432x288 with 1 Axes>"
      ]
     },
     "metadata": {
      "needs_background": "light"
     },
     "output_type": "display_data"
    }
   ],
   "source": [
    "# Plot future_predict vs X_future on a different plot.\n",
    "# Can you predict what is the sales of 2015 will be?\n",
    "\n",
    "plt.scatter(x,y)\n",
    "plt.title(\"Sales and Year\")\n",
    "plt.xlabel(\"Years\")\n",
    "plt.ylabel(\"Sales\")\n"
   ]
  },
  {
   "cell_type": "markdown",
   "metadata": {},
   "source": [
    "Use your words to interpret your results:\n",
    "\n",
    "\n",
    "\n",
    "Lessons learned through this exercise:\n",
    "\n",
    "\n"
   ]
  },
  {
   "cell_type": "markdown",
   "metadata": {},
   "source": [
    "## Multiple Linear Regression\n",
    "\n"
   ]
  },
  {
   "cell_type": "raw",
   "metadata": {},
   "source": [
    "The file bostonhousing.csv contains information collected by the US Bureau of the Census concerning housing in the area of Boston, Massachusetts. The dataset includes information on 506 census housing tracts in the Boston area. The goal is to predict the median house price in new tracts based on information such as crime rate, pollution, and number of rooms. The dataset contains 13 predictors, and the outcome variable is the median house price (MEDV). \n",
    "\n",
    "Description of Variables for Boston Housing Dataset\n",
    "CRIM: Per capita crime rate by town\n",
    "ZN: Proportion of residential land zoned for lots over 25,000 square feet\n",
    "INDUS: Proportion of nonretail business acres per twon\n",
    "CHAS: Charles River dummy variable (=1 if tract bounds river; =0 otherwise)\n",
    "NOX: Nitric oxide concentration (parts per 10 millin)\n",
    "RM: average number of rooms per dwelling\n",
    "AGE: Proportion f owner-occupied units built prior to 1940\n",
    "DIS: Weighted distances to five Boston employemnet centers\n",
    "RAD: Index of accessibility to radial highways\n",
    "TAX: Full-value property-tax rate per $10,000   \n",
    "PTRATIO: Pupil/teacher ratio by twon\n",
    "LSTAT: Percentage lower status of the population\n",
    "MEDV: Median value of owner-occupied homes in $1000s"
   ]
  },
  {
   "cell_type": "code",
   "execution_count": 69,
   "metadata": {},
   "outputs": [
    {
     "name": "stdout",
     "output_type": "stream",
     "text": [
      "      CRIM    ZN  INDUS  CHAS    NOX     RM   AGE     DIS  RAD  TAX  PTRATIO  \\\n",
      "0  0.00632  18.0   2.31     0  0.538  6.575  65.2  4.0900    1  296     15.3   \n",
      "1  0.02731   0.0   7.07     0  0.469  6.421  78.9  4.9671    2  242     17.8   \n",
      "2  0.02729   0.0   7.07     0  0.469  7.185  61.1  4.9671    2  242     17.8   \n",
      "3  0.03237   0.0   2.18     0  0.458  6.998  45.8  6.0622    3  222     18.7   \n",
      "4  0.06905   0.0   2.18     0  0.458  7.147  54.2  6.0622    3  222     18.7   \n",
      "\n",
      "   LSTAT  MEDV  CAT. MEDV  \n",
      "0   4.98  24.0          0  \n",
      "1   9.14  21.6          0  \n",
      "2   4.03  34.7          1  \n",
      "3   2.94  33.4          1  \n",
      "4   5.33  36.2          1  \n",
      "CRIM         float64\n",
      "ZN           float64\n",
      "INDUS        float64\n",
      "CHAS           int64\n",
      "NOX          float64\n",
      "RM           float64\n",
      "AGE          float64\n",
      "DIS          float64\n",
      "RAD            int64\n",
      "TAX            int64\n",
      "PTRATIO      float64\n",
      "LSTAT        float64\n",
      "MEDV         float64\n",
      "CAT. MEDV      int64\n",
      "dtype: object\n",
      "CRIM         506\n",
      "ZN           506\n",
      "INDUS        506\n",
      "CHAS         506\n",
      "NOX          506\n",
      "RM           506\n",
      "AGE          506\n",
      "DIS          506\n",
      "RAD          506\n",
      "TAX          506\n",
      "PTRATIO      506\n",
      "LSTAT        506\n",
      "MEDV         506\n",
      "CAT. MEDV    506\n",
      "dtype: int64\n"
     ]
    }
   ],
   "source": [
    "# load the data to dataframe housing_df\n",
    "# display column/variable names\n",
    "# review first 5 records in the data\n",
    "# try other ways to explore the data\n",
    "housing_df = pd.read_csv('bostonhousing.csv')\n",
    "\n",
    "print(housing_df.head())\n",
    "print(housing_df.dtypes)\n",
    "print(housing_df.count())"
   ]
  },
  {
   "cell_type": "code",
   "execution_count": 70,
   "metadata": {},
   "outputs": [],
   "source": [
    "# select columns for regression analysis\n",
    "# store predictors in X\n",
    "# store outcome variables in Y\n",
    "\n",
    "\n",
    "outcome='MEDV'\n",
    "predictors=['CRIM','ZN','INDUS','CHAS','NOX','RM','AGE','DIS','RAD','TAX','PTRATIO']\n",
    "x=housing_df[predictors]\n",
    "y=housing_df[outcome]"
   ]
  },
  {
   "cell_type": "code",
   "execution_count": 71,
   "metadata": {},
   "outputs": [
    {
     "name": "stdout",
     "output_type": "stream",
     "text": [
      "\n",
      "Training Set;          CRIM    ZN  INDUS  CHAS    NOX     RM   AGE     DIS  RAD  TAX  \\\n",
      "42    0.14150   0.0   6.91     0  0.448  6.169   6.6  5.7209    3  233   \n",
      "58    0.15445  25.0   5.13     0  0.453  6.145  29.2  7.8148    8  284   \n",
      "385  16.81180   0.0  18.10     0  0.700  5.277  98.1  1.4261   24  666   \n",
      "78    0.05646   0.0  12.83     0  0.437  6.232  53.7  5.0141    5  398   \n",
      "424   8.79212   0.0  18.10     0  0.584  5.565  70.6  2.0635   24  666   \n",
      "\n",
      "     PTRATIO  \n",
      "42      17.9  \n",
      "58      19.7  \n",
      "385     20.2  \n",
      "78      18.7  \n",
      "424     20.2   \n",
      "Test set:         CRIM    ZN  INDUS  CHAS    NOX     RM   AGE     DIS  RAD  TAX  PTRATIO\n",
      "307  0.04932  33.0   2.18     0  0.472  6.849  70.3  3.1827    7  222     18.4\n",
      "343  0.02543  55.0   3.78     0  0.484  6.696  56.4  5.7321    5  370     17.6\n",
      "47   0.22927   0.0   6.91     0  0.448  6.030  85.5  5.6894    3  233     17.9\n",
      "67   0.05789  12.5   6.07     0  0.409  5.878  21.4  6.4980    4  345     18.9\n",
      "362  3.67822   0.0  18.10     0  0.770  5.362  96.2  2.1036   24  666     20.2\n"
     ]
    }
   ],
   "source": [
    "# partition data into training set (80%) and test set (20%)\n",
    "# name training set X_training, y_training\n",
    "# name testing set X_test, y_test\n",
    "# print out each partitioned sub-set to check on your work\n",
    "\n",
    "x_training, x_test, y_training, y_test=train_test_split(x,y, test_size=0.2, random_state=1)\n",
    "\n",
    "print('\\nTraining Set;', x_training.head(), '\\nTest set:', x_test.head())\n"
   ]
  },
  {
   "cell_type": "code",
   "execution_count": 72,
   "metadata": {
    "scrolled": true
   },
   "outputs": [
    {
     "name": "stdout",
     "output_type": "stream",
     "text": [
      "Intercept 32.413269323962666\n",
      "   Predictor  Coefficient\n",
      "0       CRIM    -0.181669\n",
      "1         ZN     0.048574\n",
      "2      INDUS    -0.048790\n",
      "3       CHAS     2.801452\n",
      "4        NOX   -23.982096\n",
      "5         RM     5.469627\n",
      "6        AGE    -0.050281\n",
      "7        DIS    -1.669890\n",
      "8        RAD     0.242483\n",
      "9        TAX    -0.010245\n",
      "10   PTRATIO    -1.022074\n"
     ]
    }
   ],
   "source": [
    "# build regression model\n",
    "# fit the regression model \n",
    "# print coefficients\n",
    "\n",
    "housing_mlr=LinearRegression()\n",
    "housing_mlr.fit(x_training, y_training)\n",
    "\n",
    "print('Intercept', housing_mlr.intercept_)\n",
    "print(pd.DataFrame({'Predictor': x.columns, 'Coefficient':housing_mlr.coef_}))"
   ]
  },
  {
   "cell_type": "code",
   "execution_count": 79,
   "metadata": {},
   "outputs": [
    {
     "name": "stdout",
     "output_type": "stream",
     "text": [
      "[31.81003937 26.93835459 20.51779531 21.24665585 11.7242812 ]\n"
     ]
    }
   ],
   "source": [
    "# validate your model on the testing dataset\n",
    "# print out the results\n",
    "\n",
    "y_predicted=housing_mlr.predict(x_test)\n",
    "print(y_predicted[:5])"
   ]
  },
  {
   "cell_type": "code",
   "execution_count": 78,
   "metadata": {},
   "outputs": [
    {
     "data": {
      "image/png": "[encoded data removed]",
      "text/plain": [
       "<Figure size 432x288 with 1 Axes>"
      ]
     },
     "metadata": {
      "needs_background": "light"
     },
     "output_type": "display_data"
    }
   ],
   "source": [
    "# Plot your predicted value against the actual value in the testing dataset\n",
    "# lable the x-axis and y-axis accordingly, do not forget to show your results\n",
    "plt.scatter(y_predicted,y_test)\n",
    "plt.title(\"Predictors of Housing Boston\")\n",
    "plt.xlabel(\"Predicted Mean Housing Price\")\n",
    "plt.ylabel(\"Predictors\")\n",
    "\n",
    "plt.show()"
   ]
  },
  {
   "cell_type": "code",
   "execution_count": 75,
   "metadata": {},
   "outputs": [
    {
     "name": "stdout",
     "output_type": "stream",
     "text": [
      "0.7012050458350929\n",
      "0.6565863215699673\n"
     ]
    }
   ],
   "source": [
    "# print R-square\n",
    "print(housing_mlr.score(x_test,y_test))\n",
    "print(housing_mlr.score(x_training,y_training))"
   ]
  },
  {
   "cell_type": "markdown",
   "metadata": {},
   "source": [
    "Use your words to interpret your results:\n",
    "\n",
    "\n",
    "\n",
    "Lessons learned through this exercise:\n",
    "\n",
    "\n",
    "\n"
   ]
  },
  {
   "cell_type": "code",
   "execution_count": 80,
   "metadata": {},
   "outputs": [],
   "source": [
    "# There is a postive linear relationship between the predictors and the median house price in Boston. The R Square values support this as well. \n",
    "# Extra Credit (10 points): Find out the best model from the 12 predictors in this dataset to predict MEDV\n",
    "# pay attention to multicollinearity \n",
    "# Wouldn't NOX: Nitric oxide concentration (parts per 10 millin) be the biggest indicator of lower housing values?"
   ]
  },
  {
   "cell_type": "markdown",
   "metadata": {},
   "source": [
    "## Logistic Regression"
   ]
  },
  {
   "cell_type": "markdown",
   "metadata": {},
   "source": [
    "The file banks.csv includes data on a sample of 20 banks. The \"Financial Condition\" column records the judgement of an expert on the financial condition of each bank. This outcome variable takes one of two possible values -- weak or strong-- according to the financial condition of the bank. The predictors are two ratios used in the financial analysis of banks: TotLnsLses_Assets is the ratio of total loans and leases to total assets and TotExp_Assets is the ratio of total expenses to total assets. The target is to use the two ratios for classifying the financial condition of a new bank.\n",
    "\n",
    "Run a logistic regression model (on the entire dataset) that model the status of a bank as a function of the two financial measures provided. Specify the success class as weak (this is similar to creating a dummy that is 1 for financially weak banks and 0 otherwise), and use the default cutoff value of 0.5."
   ]
  },
  {
   "cell_type": "code",
   "execution_count": 81,
   "metadata": {},
   "outputs": [
    {
     "name": "stdout",
     "output_type": "stream",
     "text": [
      "   Obs  Financial_Condition  TotCap_Assets  TotExp_Assets  TotLnsLses_Assets\n",
      "0    1                    1            9.7           0.12               0.65\n",
      "1    2                    1            1.0           0.11               0.62\n",
      "2    3                    1            6.9           0.09               1.02\n",
      "3    4                    1            5.8           0.10               0.67\n",
      "4    5                    1            4.3           0.11               0.69\n",
      "Obs                    20\n",
      "Financial_Condition    20\n",
      "TotCap_Assets          20\n",
      "TotExp_Assets          20\n",
      "TotLnsLses_Assets      20\n",
      "dtype: int64\n"
     ]
    }
   ],
   "source": [
    "# load the data to data frame banks_df\n",
    "# display column/variable names\n",
    "# review first 5 records in the data\n",
    "\n",
    "banks_df = pd.read_csv(\"banks.csv\")\n",
    "\n",
    "print(banks_df.head())\n",
    "print(banks_df.count())\n",
    "\n"
   ]
  },
  {
   "cell_type": "code",
   "execution_count": 82,
   "metadata": {},
   "outputs": [],
   "source": [
    "# Is the data clean?\n",
    "# Select the predictors to X, outcome variable to y\n",
    "\n",
    "x=banks_df[[\"TotLnsLses_Assets\",\"TotExp_Assets\"]]\n",
    "y=banks_df[\"Financial_Condition\"]"
   ]
  },
  {
   "cell_type": "code",
   "execution_count": 83,
   "metadata": {},
   "outputs": [
    {
     "name": "stdout",
     "output_type": "stream",
     "text": [
      "    TotLnsLses_Assets  TotExp_Assets\n",
      "2                1.02           0.09\n",
      "5                0.74           0.13\n",
      "17               0.55           0.11\n",
      "19               0.51           0.08\n",
      "12               0.69           0.07\n",
      "1                0.62           0.11\n",
      "11               0.80           0.12\n",
      "10               0.43           0.08 2     1\n",
      "5     1\n",
      "17    0\n",
      "19    0\n",
      "12    0\n",
      "1     1\n",
      "11    0\n",
      "10    0\n",
      "Name: Financial_Condition, dtype: int64\n"
     ]
    }
   ],
   "source": [
    "# partition data into training set (60%) and test set (40%)\n",
    "# name training set X_training, y_training\n",
    "# name testing set X_test, y_test\n",
    "# print out each partitioned sub-set to check on your work\n",
    "\n",
    "x_training, x_test, y_training, y_test=train_test_split(x, y, test_size=0.4, random_state=5)\n",
    "\n",
    "print(x_test,y_test)"
   ]
  },
  {
   "cell_type": "code",
   "execution_count": 84,
   "metadata": {},
   "outputs": [
    {
     "name": "stdout",
     "output_type": "stream",
     "text": [
      "    TotLnsLses_Assets  TotExp_Assets\n",
      "13          -0.526389      -1.025139\n",
      "18          -1.195213      -1.025139\n",
      "7            0.216748       0.783929\n",
      "4            0.662631       0.060302\n",
      "8            0.885572       1.869370\n",
      "9           -0.229134       1.869370\n",
      "0            0.365376       0.422116\n",
      "16          -0.823644      -1.025139\n",
      "6            1.405768      -0.301511\n",
      "15          -2.235605      -0.663325\n",
      "14           0.959886      -0.663325\n",
      "3            0.514003      -0.301511\n",
      "    TotLnsLses_Assets  TotExp_Assets\n",
      "2            2.000817      -0.431638\n",
      "5            0.400163       1.541566\n",
      "17          -0.685994       0.554964\n",
      "19          -0.914659      -0.924940\n",
      "12           0.114332      -1.418241\n",
      "1           -0.285831       0.554964\n",
      "11           0.743161       1.048265\n",
      "10          -1.371989      -0.924940\n"
     ]
    }
   ],
   "source": [
    "# Scale the predictor datasets so it has mean = 0 and standard deviation = 1\n",
    "scaler = StandardScaler()\n",
    "\n",
    "x_training=pd.DataFrame(scaler.fit_transform(x_training), index = x_training.index, columns = x_training.columns)\n",
    "print(x_training)\n",
    "\n",
    "\n",
    "x_test=pd.DataFrame(scaler.fit_transform(x_test), index = x_test.index, columns = x_test.columns)\n",
    "print(x_test)"
   ]
  },
  {
   "cell_type": "code",
   "execution_count": 87,
   "metadata": {},
   "outputs": [
    {
     "data": {
      "text/plain": [
       "LogisticRegression()"
      ]
     },
     "execution_count": 87,
     "metadata": {},
     "output_type": "execute_result"
    }
   ],
   "source": [
    "# Create and train the model\n",
    "# fit the model\n",
    "\n",
    "Financial_Condition_lr=LogisticRegression()\n",
    "Financial_Condition_lr.fit(x_training, y_training)\n",
    "\n",
    "\n"
   ]
  },
  {
   "cell_type": "code",
   "execution_count": 88,
   "metadata": {},
   "outputs": [
    {
     "name": "stdout",
     "output_type": "stream",
     "text": [
      "Intercept [0.50947949]\n",
      "[('TotLnsLses_Assets', 0.8384044295309269), ('TotExp_Assets', 1.2641532927117796)]\n"
     ]
    }
   ],
   "source": [
    "# Analyze the coefficients\n",
    "print('Intercept', Financial_Condition_lr.intercept_)\n",
    "print(list(zip(['TotLnsLses_Assets','TotExp_Assets'], Financial_Condition_lr.coef_[0])))"
   ]
  },
  {
   "cell_type": "code",
   "execution_count": 89,
   "metadata": {},
   "outputs": [
    {
     "name": "stdout",
     "output_type": "stream",
     "text": [
      "[0 1]\n",
      "[[0.83104875 0.16895125]\n",
      " [0.06836773 0.93163227]]\n"
     ]
    }
   ],
   "source": [
    "# Make predictions on test data\n",
    "\n",
    "Company1 = np.array([0.0,0.0])\n",
    "Company2 = np.array([11.0,18.0])\n",
    "\n",
    "\n",
    "sample_company=np.array([Company1,Company2])\n",
    "sample_company=scaler.fit_transform(sample_company)\n",
    "\n",
    "\n",
    "\n",
    "print(Financial_Condition_lr.predict(sample_company))\n",
    "print(Financial_Condition_lr.predict_proba(sample_company))\n"
   ]
  },
  {
   "cell_type": "code",
   "execution_count": 90,
   "metadata": {},
   "outputs": [
    {
     "name": "stdout",
     "output_type": "stream",
     "text": [
      "0.9166666666666666\n",
      "0.75\n"
     ]
    }
   ],
   "source": [
    "# Score the model\n",
    "print(Financial_Condition_lr.score(x_training, y_training))\n",
    "\n",
    "print(Financial_Condition_lr.score(x_test, y_test))\n",
    "\n"
   ]
  },
  {
   "cell_type": "markdown",
   "metadata": {},
   "source": [
    "Use your words to interpret your results:\n",
    "\n",
    "\n",
    "\n",
    "Lessons learned through this exercise:\n",
    "\n",
    "\n",
    "\n"
   ]
  },
  {
   "cell_type": "code",
   "execution_count": 91,
   "metadata": {},
   "outputs": [],
   "source": [
    "# TotLnsLses_Assets and TotExp_Assets (logged) can be used to predict the \"Financial Condition\" of a company.\n",
    "# The score and R value support this statement."
   ]
  }
 ],
 "metadata": {
  "kernelspec": {
   "display_name": "Python 3",
   "language": "python",
   "name": "python3"
  },
  "language_info": {
   "codemirror_mode": {
    "name": "ipython",
    "version": 3
   },
   "file_extension": ".py",
   "mimetype": "text/x-python",
   "name": "python",
   "nbconvert_exporter": "python",
   "pygments_lexer": "ipython3",
   "version": "3.8.3"
  }
 },
 "nbformat": 4,
 "nbformat_minor": 2
}
