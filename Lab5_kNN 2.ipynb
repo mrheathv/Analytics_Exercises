{
 "cells": [
  {
   "cell_type": "markdown",
   "metadata": {},
   "source": [
    "# k-Nearest Neighbors (k-NN)"
   ]
  },
  {
   "cell_type": "markdown",
   "metadata": {},
   "source": [
    "## Personal Loan Acceptance\n",
    "\n",
    "Universal Bank is a relatively young bank growing rapidly in terms of overall customer acquisition. The majority of these customers are liability customers (depositors) with varying sizes of relationship with the bank. The customer base of asset customers (borrowers) is quite small, and the bank is interested in expanding this base rapidly to bring in more loan business. In particular, it wants to explore ways of converting its liability customers to personal loan customers (while retaining them as depositors).\n",
    "\n",
    "A campaign that the bank ran last year for liability customers showed a healthy conversion rate of over 9% success. This has encouraged the retail marketing department to devise smarter campaigns with better target marketing. The goal is to use k-NN to predict whether a new customer will accept a loan offer. This will serve as the basis for the design of a new campaign.\n",
    "\n",
    "The file universalbank.csv contains data on 5000 customers. The data include customer demographic information (age, income, etc.), the customer’s relationship with the bank (mortgage, securities account, etc.), and the customer response to the last personal loan campaign (Personal Loan). Among these 5000 customers, only 480 (= 9.6%) accepted the personal loan that was offered to them in the earlier campaign.\n",
    "\n",
    "Partition the data into training (60%) and validation (40%) sets. Find the optimal k value to perform a k-NN classification with all predictors except ID and ZIP code. Remember to transform categorical predictors with more than two categories into dummy variables first. Specify the success class as 1 (Personal Loan=1: accepting the loan), and use the default cutoff value of 0.5."
   ]
  },
  {
   "cell_type": "code",
   "execution_count": 1,
   "metadata": {},
   "outputs": [],
   "source": [
    "# Import required packages for this chapter\n",
    "\n",
    "import pandas as pd\n",
    "from sklearn import preprocessing\n",
    "from sklearn.model_selection import train_test_split\n",
    "import matplotlib.pyplot as plt\n",
    "from sklearn.neighbors import KNeighborsClassifier\n"
   ]
  },
  {
   "cell_type": "code",
   "execution_count": 2,
   "metadata": {},
   "outputs": [
    {
     "name": "stdout",
     "output_type": "stream",
     "text": [
      "   Age  Experience  Income  Family  CCAvg  Education  Mortgage  Personal Loan  \\\n",
      "0   25           1      49       4    1.6          1         0              0   \n",
      "1   45          19      34       3    1.5          1         0              0   \n",
      "2   39          15      11       1    1.0          1         0              0   \n",
      "3   35           9     100       1    2.7          2         0              0   \n",
      "4   35           8      45       4    1.0          2         0              0   \n",
      "\n",
      "   Securities Account  CD Account  Online  CreditCard  \n",
      "0                   1           0       0           0  \n",
      "1                   1           0       0           0  \n",
      "2                   0           0       0           0  \n",
      "3                   0           0       0           0  \n",
      "4                   0           0       0           1  \n",
      "(5000, 12)\n",
      "Age                   5000\n",
      "Experience            5000\n",
      "Income                5000\n",
      "Family                5000\n",
      "CCAvg                 5000\n",
      "Education             5000\n",
      "Mortgage              5000\n",
      "Personal Loan         5000\n",
      "Securities Account    5000\n",
      "CD Account            5000\n",
      "Online                5000\n",
      "CreditCard            5000\n",
      "dtype: int64\n",
      "               Age   Experience       Income       Family        CCAvg  \\\n",
      "count  5000.000000  5000.000000  5000.000000  5000.000000  5000.000000   \n",
      "mean     45.338400    20.104600    73.774200     2.396400     1.937938   \n",
      "std      11.463166    11.467954    46.033729     1.147663     1.747659   \n",
      "min      23.000000    -3.000000     8.000000     1.000000     0.000000   \n",
      "25%      35.000000    10.000000    39.000000     1.000000     0.700000   \n",
      "50%      45.000000    20.000000    64.000000     2.000000     1.500000   \n",
      "75%      55.000000    30.000000    98.000000     3.000000     2.500000   \n",
      "max      67.000000    43.000000   224.000000     4.000000    10.000000   \n",
      "\n",
      "         Education     Mortgage  Personal Loan  Securities Account  \\\n",
      "count  5000.000000  5000.000000    5000.000000         5000.000000   \n",
      "mean      1.881000    56.498800       0.096000            0.104400   \n",
      "std       0.839869   101.713802       0.294621            0.305809   \n",
      "min       1.000000     0.000000       0.000000            0.000000   \n",
      "25%       1.000000     0.000000       0.000000            0.000000   \n",
      "50%       2.000000     0.000000       0.000000            0.000000   \n",
      "75%       3.000000   101.000000       0.000000            0.000000   \n",
      "max       3.000000   635.000000       1.000000            1.000000   \n",
      "\n",
      "       CD Account       Online   CreditCard  \n",
      "count  5000.00000  5000.000000  5000.000000  \n",
      "mean      0.06040     0.596800     0.294000  \n",
      "std       0.23825     0.490589     0.455637  \n",
      "min       0.00000     0.000000     0.000000  \n",
      "25%       0.00000     0.000000     0.000000  \n",
      "50%       0.00000     1.000000     0.000000  \n",
      "75%       0.00000     1.000000     1.000000  \n",
      "max       1.00000     1.000000     1.000000  \n"
     ]
    }
   ],
   "source": [
    "# Load the data into band_df dataframe\n",
    "universalbank_df=pd.read_csv(\"universalbank.csv\")\n",
    "\n",
    "\n",
    "# Drop the columns that cannot be used in the model: ID and zip code\n",
    "universalbank_df =universalbank_df.drop(columns=['ID', 'ZIP Code'])\n",
    "\n",
    "\n",
    "\n",
    "# Use critical functions to explore the dataframe. Use print() to show results\n",
    "\n",
    "print(universalbank_df.head())\n",
    "print(universalbank_df.shape)\n",
    "print(universalbank_df.count())\n",
    "print(universalbank_df.describe())"
   ]
  },
  {
   "cell_type": "code",
   "execution_count": 3,
   "metadata": {},
   "outputs": [],
   "source": [
    "# Clean dataset\n",
    "# 1. modify column names (Hint: are all the columns headers written in a way that can be used?\n",
    "# I think they are fine..."
   ]
  },
  {
   "cell_type": "code",
   "execution_count": 4,
   "metadata": {},
   "outputs": [
    {
     "name": "stdout",
     "output_type": "stream",
     "text": [
      "   Age  Experience  Income  Family  CCAvg  Education  Mortgage  Personal Loan  \\\n",
      "0   25           1      49       4    1.6          1         0              0   \n",
      "1   45          19      34       3    1.5          1         0              0   \n",
      "2   39          15      11       1    1.0          1         0              0   \n",
      "3   35           9     100       1    2.7          2         0              0   \n",
      "4   35           8      45       4    1.0          2         0              0   \n",
      "\n",
      "   Securities Account  CD Account  Online  CreditCard  Education_1  \\\n",
      "0                   1           0       0           0            1   \n",
      "1                   1           0       0           0            1   \n",
      "2                   0           0       0           0            1   \n",
      "3                   0           0       0           0            0   \n",
      "4                   0           0       0           1            0   \n",
      "\n",
      "   Education_2  Education_3  \n",
      "0            0            0  \n",
      "1            0            0  \n",
      "2            0            0  \n",
      "3            1            0  \n",
      "4            1            0  \n"
     ]
    }
   ],
   "source": [
    "# Clean dataset\n",
    "# 2. create dummy variables for categorical variable, we consider Education as categorical variable\n",
    "\n",
    "dummy_class=pd.get_dummies(universalbank_df['Education'])\n",
    "dummy_class=dummy_class.rename(columns={1:\"Education_1\", 2:\"Education_2\", 3: \"Education_3\"})\n",
    "universalbank_df=pd.concat([universalbank_df,dummy_class],axis=1)\n",
    "print(universalbank_df.head())"
   ]
  },
  {
   "cell_type": "code",
   "execution_count": 5,
   "metadata": {},
   "outputs": [
    {
     "name": "stdout",
     "output_type": "stream",
     "text": [
      "Training set:  (5000, 15) Validation set:  (5000, 15)\n"
     ]
    }
   ],
   "source": [
    "# split dataset into training (60%) and validation (40%) sets\n",
    "# print out the shape of the two splitted datasets to check your results.\n",
    "train_df, valid_df = train_test_split(universalbank_df, test_size=.6,random_state = 10)\n",
    "print('Training set: ', universalbank_df.shape, 'Validation set: ', universalbank_df.shape)"
   ]
  },
  {
   "cell_type": "code",
   "execution_count": 6,
   "metadata": {},
   "outputs": [
    {
     "name": "stdout",
     "output_type": "stream",
     "text": [
      "[[-1.53398499 -1.50502261  1.39352594 ...  1.187282   -0.61047817\n",
      "  -0.67576937]\n",
      " [-0.66086473 -0.72204024 -0.77227577 ...  1.187282   -0.61047817\n",
      "  -0.67576937]\n",
      " [-1.09742486 -1.15703044  0.70136251 ... -0.84225988 -0.61047817\n",
      "   1.4797948 ]\n",
      " ...\n",
      " [ 0.29956756  0.40893429  0.45575613 ...  1.187282   -0.61047817\n",
      "  -0.67576937]\n",
      " [ 0.38687959  0.40893429 -0.6159808  ... -0.84225988 -0.61047817\n",
      "   1.4797948 ]\n",
      " [ 0.03763148  0.06094213  0.21014975 ...  1.187282   -0.61047817\n",
      "  -0.67576937]] [[-0.92280081 -0.80903828 -1.06253785 ... -0.84225988  1.63806021\n",
      "  -0.67576937]\n",
      " [ 0.56150364  0.66992841  0.03152693 ... -0.84225988  1.63806021\n",
      "  -0.67576937]\n",
      " [ 0.56150364  0.49593233  0.2324776  ...  1.187282   -0.61047817\n",
      "  -0.67576937]\n",
      " ...\n",
      " [-0.74817675 -0.80903828 -0.97322644 ... -0.84225988 -0.61047817\n",
      "   1.4797948 ]\n",
      " [ 0.12494351 -0.02605591  0.14316619 ... -0.84225988  1.63806021\n",
      "  -0.67576937]\n",
      " [-0.13699257 -0.02605591  1.4605095  ...  1.187282   -0.61047817\n",
      "  -0.67576937]]\n"
     ]
    }
   ],
   "source": [
    "# Separate the predictors and the outcomes.\n",
    "# Normalize te predictors of the training and validation sets.\n",
    "# USE StandardScaler to standardize the dataset. \n",
    "# Use training set ONLY to train the StandardScaler model, name the transformation model scaler.\n",
    "\n",
    "outcome ='Personal Loan'\n",
    "predictors=list(train_df.columns)\n",
    "predictors.remove(outcome)\n",
    "\n",
    "scaler=preprocessing.StandardScaler()\n",
    "scaler.fit(train_df[predictors])\n",
    "\n",
    "train_X=scaler.transform(train_df[predictors])\n",
    "valid_X=scaler.transform(valid_df[predictors])\n",
    "\n",
    "train_y=train_df[outcome]\n",
    "valid_y=valid_df[outcome]\n",
    "\n",
    "\n",
    "# Print out the first five rows of the predictor in the training and validation sets\n",
    "print(train_X, valid_X)\n",
    "\n",
    "\n",
    "\n"
   ]
  },
  {
   "cell_type": "code",
   "execution_count": 14,
   "metadata": {},
   "outputs": [
    {
     "data": {
      "image/png": "[encoded data removed]",
      "text/plain": [
       "<Figure size 432x288 with 1 Axes>"
      ]
     },
     "metadata": {
      "needs_background": "light"
     },
     "output_type": "display_data"
    },
    {
     "name": "stdout",
     "output_type": "stream",
     "text": [
      "0.951 0.9503333333333334 0.9473333333333334\n"
     ]
    }
   ],
   "source": [
    "# Build kNN classifer and fit the model to the classifier\n",
    "# Find the optimal k value with a for loop. Test out k starts at 1 and increases to 100. \n",
    "# For each k value ranging from 1 to 100. Store the score of the model on the validation sets in a list named accuracies.\n",
    "\n",
    "k_list= range(1,100,1)\n",
    "accuracies = []\n",
    "\n",
    "for k in k_list:\n",
    "    classifier=KNeighborsClassifier(n_neighbors=k)\n",
    "    classifier.fit(train_X, train_y)\n",
    "    accuracies.append(classifier.score(valid_X,valid_y))\n",
    "    \n",
    "\n",
    "# Plot accuracies (y-axis) on k (x-axis).\n",
    "# Set the x-axis label to \"k\"\n",
    "# Set the y-axis label to \"Validation Accuracy\"\n",
    "# Set the title to \"Universal Bank Liability Loan Classifier Accuracy\"\n",
    "\n",
    "plt.plot(k_list, accuracies)\n",
    "plt.xlim(0,10)\n",
    "plt.xlabel('k')\n",
    "plt.ylabel('Validation Accuracy')\n",
    "plt.title(\"Universal Bank Liability Loan Classifier Accuracy\")\n",
    "plt.show()\n",
    "\n",
    "print(accuracies[3],accuracies[7],accuracies[9])\n",
    "\n",
    "\n",
    "# Answer question: what would be the optimal k value for this model?\n",
    "# Your answer:\n",
    "# 3. Probably. "
   ]
  },
  {
   "cell_type": "markdown",
   "metadata": {},
   "source": [
    "Consider the following customer:\n",
    "\n",
    "Age = 40, Experience = 10, Income = 84, Family = 2, CCAvg = 2, Education_1= 0, Education_2 = 1, Education_3 = 0, Mortgage = 0, Securities Account = 0, CD Account = 0, Online = 1, and Credit Card = 1.  How would this customer be classified?"
   ]
  },
  {
   "cell_type": "code",
   "execution_count": 23,
   "metadata": {},
   "outputs": [
    {
     "name": "stdout",
     "output_type": "stream",
     "text": [
      "   Age  Experience  Income  Family  CCAvg  Education_1  Education_2  \\\n",
      "0   40          10      84       2      2            0            1   \n",
      "\n",
      "   Education_3  Mortgage  Securities Account  CD Account  Online  CreditCard  \\\n",
      "0            0         0                   0           0       1           1   \n",
      "\n",
      "   NA  \n",
      "0   0  \n"
     ]
    }
   ],
   "source": [
    "# put the customer into newcustomer dataframe\n",
    "# print out this dataframe to check your result\n",
    "\n",
    "newcustomer=pd.DataFrame([{'Age':40, 'Experience':10, 'Income':84, 'Family':2, 'CCAvg':2, 'Education_1': 0, 'Education_2': 1, 'Education_3':0, 'Mortgage':0, 'Securities Account':0, 'CD Account':0, 'Online':1, 'CreditCard': 1, 'NA':0}], columns=['Age', 'Experience', 'Income', 'Family', 'CCAvg', 'Education_1', 'Education_2', 'Education_3', 'Mortgage', 'Securities Account', 'CD Account', 'Online','CreditCard', 'NA'])\n",
    "\n",
    "print(newcustomer)"
   ]
  },
  {
   "cell_type": "code",
   "execution_count": 24,
   "metadata": {},
   "outputs": [
    {
     "name": "stdout",
     "output_type": "stream",
     "text": [
      "        Age  Experience    Income    Family     CCAvg  Education_1  \\\n",
      "0 -0.486241   -0.896036  0.254805 -0.328641  0.052314    -2.240209   \n",
      "\n",
      "   Education_2  Education_3  Mortgage  Securities Account  CD Account  \\\n",
      "0    -0.553842    -0.327749 -0.229416           -1.194648   -0.639101   \n",
      "\n",
      "     Online  CreditCard        NA  \n",
      "0  1.187282     1.63806 -0.675769  \n"
     ]
    }
   ],
   "source": [
    "# normalize newcustomer\n",
    "# print out this dataframe to check your result\n",
    "newcustomer=pd.DataFrame(scaler.transform(newcustomer),columns=newcustomer.columns)\n",
    "print(newcustomer)"
   ]
  },
  {
   "cell_type": "code",
   "execution_count": 27,
   "metadata": {},
   "outputs": [
    {
     "name": "stdout",
     "output_type": "stream",
     "text": [
      "[0]\n",
      "[[1. 0.]]\n"
     ]
    }
   ],
   "source": [
    "# Predicted class using the optimal k value you just discovered. \n",
    "# You may need to re-build the classifier using training set first.\n",
    "\n",
    "classifier_new=KNeighborsClassifier(n_neighbors=3)\n",
    "classifier_new.fit(train_X, train_y)\n",
    "# predicted class, print out results\n",
    "\n",
    "print(classifier_new.predict(newcustomer))\n",
    "\n",
    "\n",
    "# predicted probability, print out results\n",
    "\n",
    "print(classifier_new.predict_proba(newcustomer))\n",
    "\n"
   ]
  },
  {
   "cell_type": "code",
   "execution_count": null,
   "metadata": {},
   "outputs": [],
   "source": [
    "# Interpret your results:\n",
    "\n",
    "# We predict that they will not be accept the personal loan.\n",
    "\n",
    "# Notes:Added an 'NA'value to newcustomer because the scaler was throwing an error, opted not to troubleshoot further.\n",
    "\n",
    "\n",
    "# Lesson learned from this lab:\n",
    "\n",
    "\n"
   ]
  }
 ],
 "metadata": {
  "kernelspec": {
   "display_name": "Python 3",
   "language": "python",
   "name": "python3"
  },
  "language_info": {
   "codemirror_mode": {
    "name": "ipython",
    "version": 3
   },
   "file_extension": ".py",
   "mimetype": "text/x-python",
   "name": "python",
   "nbconvert_exporter": "python",
   "pygments_lexer": "ipython3",
   "version": "3.8.3"
  }
 },
 "nbformat": 4,
 "nbformat_minor": 4
}
