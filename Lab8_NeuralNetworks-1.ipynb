{
 "cells": [
  {
   "cell_type": "markdown",
   "metadata": {},
   "source": [
    "# Neural Networks"
   ]
  },
  {
   "cell_type": "code",
   "execution_count": 3,
   "metadata": {},
   "outputs": [],
   "source": [
    "# Import required packages for this chapter\n",
    "import pandas as pd\n",
    "import numpy as np\n",
    "from sklearn.model_selection import train_test_split\n",
    "from sklearn.preprocessing import StandardScaler, MinMaxScaler\n",
    "from sklearn.neural_network import MLPClassifier, MLPRegressor\n",
    "from sklearn.metrics import classification_report, confusion_matrix\n",
    "\n"
   ]
  },
  {
   "cell_type": "markdown",
   "metadata": {},
   "source": [
    "# Credit Card Use"
   ]
  },
  {
   "cell_type": "markdown",
   "metadata": {},
   "source": [
    "Consider the hypothetical bank data in on consumers’ use of credit card credit facilities. Import dataset _creditcard.csv_. Use Python program to illustrate one pass through a simple neural network (Randomly generate initial weight values)\n",
    "\n",
    "_Years: number of years the customer has been with the bank_\n",
    "\n",
    "_Salary: customer’s salary (in thousands of dollars)_\n",
    "\n",
    "_Used Credit: 1 = customer has left an unpaid credit card balance at the end of at least one month in the prior year, 0 = balance was paid off at the end of each month_\n",
    "\n",
    "__Data Preprocessing.__ The dataset is too small, we will not split the data. We are using the whole set as a training set to estabish our model."
   ]
  },
  {
   "cell_type": "code",
   "execution_count": 2,
   "metadata": {},
   "outputs": [
    {
     "name": "stdout",
     "output_type": "stream",
     "text": [
      "(6, 3)\n",
      "Years          6\n",
      "Salary         6\n",
      "Used_Credit    6\n",
      "dtype: int64\n",
      "             count       mean        std   min    25%   50%    75%    max\n",
      "Years          6.0   7.833333   6.968979   1.0   3.25   5.0  12.75   18.0\n",
      "Salary         6.0  76.000000  26.608269  43.0  56.00  76.5  93.25  112.0\n",
      "Used_Credit    6.0   0.500000   0.547723   0.0   0.00   0.5   1.00    1.0\n"
     ]
    }
   ],
   "source": [
    "# Load the data into creditcard_df dataframe\n",
    "# Use critical functions to explore the dataframe using print() to show results\n",
    "creditcard_df=pd.read_csv(\"creditcard.csv\")\n",
    "print(creditcard_df.shape)\n",
    "print(creditcard_df.count())\n",
    "print(creditcard_df.describe().transpose())"
   ]
  },
  {
   "cell_type": "code",
   "execution_count": 3,
   "metadata": {},
   "outputs": [
    {
     "name": "stdout",
     "output_type": "stream",
     "text": [
      "   Years  Salary\n",
      "0      4      43\n",
      "1     18      65\n",
      "2      1      53\n",
      "3      3      95\n",
      "4     15      88\n",
      "5      6     112 0    0\n",
      "1    1\n",
      "2    0\n",
      "3    0\n",
      "4    1\n",
      "5    1\n",
      "Name: Used_Credit, dtype: int64\n"
     ]
    }
   ],
   "source": [
    "# construct the dataset: predictors(X) and outcome(y)\n",
    "# print out results to varify\n",
    "\n",
    "X=creditcard_df.drop('Used_Credit', axis='columns')\n",
    "y=creditcard_df['Used_Credit']\n",
    "print(X, y)"
   ]
  },
  {
   "cell_type": "code",
   "execution_count": 4,
   "metadata": {},
   "outputs": [
    {
     "name": "stdout",
     "output_type": "stream",
     "text": [
      "[[-0.60255689 -1.3585885 ]\n",
      " [ 1.59808568 -0.45286283]\n",
      " [-1.07412316 -0.94689502]\n",
      " [-0.75974565  0.78221762]\n",
      " [ 1.12651941  0.49403218]\n",
      " [-0.28817938  1.48209655]]\n"
     ]
    }
   ],
   "source": [
    "# Normalize data using standard scalar.\n",
    "# Do we need to standardize both predictors and outcome or just one of thoese two?\n",
    "scaler=StandardScaler()\n",
    "scaler.fit(X)\n",
    "X=scaler.transform(X)\n",
    "print(X)\n",
    "# we don't need to scale Y, predictors need to be between 0 and 1"
   ]
  },
  {
   "cell_type": "code",
   "execution_count": 5,
   "metadata": {},
   "outputs": [
    {
     "name": "stdout",
     "output_type": "stream",
     "text": [
      "(5, 2) (1, 2)\n"
     ]
    },
    {
     "data": {
      "text/plain": [
       "MLPClassifier(activation='logistic', hidden_layer_sizes=3, max_iter=500,\n",
       "              solver='lbfgs')"
      ]
     },
     "execution_count": 5,
     "metadata": {},
     "output_type": "execute_result"
    }
   ],
   "source": [
    "# The dataset is too small to partition into training set and validation set. We will use the whole dataset for training\n",
    "# Multi-layer Perceptron classifier: one layer with 3 hidden nodes, set the activation function to be logistic function, solver to be lbfgs\n",
    "X_train, X_test, y_train, y_test = train_test_split(X, y, test_size=1, random_state=108)\n",
    "print(X_train.shape, X_test.shape)\n",
    "\n",
    "mlp=MLPClassifier(hidden_layer_sizes=(3), activation = 'logistic', solver='lbfgs', max_iter=500)\n",
    "mlp.fit(X_train, y_train)"
   ]
  },
  {
   "cell_type": "code",
   "execution_count": 6,
   "metadata": {},
   "outputs": [
    {
     "name": "stdout",
     "output_type": "stream",
     "text": [
      "Hidden layer 2 => 3\n",
      " Intercepts:\n",
      "  [-1.05018984  1.01083091 -0.74328605]\n",
      " Weights:\n",
      "  [ 3.84666335 -3.46430064  2.85409368]\n",
      "  [ 2.62543266 -2.52332552  2.29352759]\n",
      "\n",
      "Output layer 3 => 1\n",
      " Intercepts:\n",
      "  [-3.03437227]\n",
      " Weights:\n",
      "  [7.84086078]\n",
      "  [-7.75163921]\n",
      "  [5.36739226]\n",
      "\n"
     ]
    }
   ],
   "source": [
    "# Network structure\n",
    "# Hint: sample code given in in class exercise\n",
    "\n",
    "for i, (weights, intercepts) in enumerate(zip(mlp.coefs_, mlp.intercepts_)):\n",
    "    print('Hidden layer' if i == 0 else 'Output layer', '{0[0]} => {0[1]}'.format(weights.shape))\n",
    "    print(' Intercepts:\\n ', intercepts)\n",
    "    print(' Weights:')\n",
    "    for weight in weights:\n",
    "        print(' ', weight)\n",
    "    print()"
   ]
  },
  {
   "cell_type": "code",
   "execution_count": 7,
   "metadata": {},
   "outputs": [
    {
     "name": "stdout",
     "output_type": "stream",
     "text": [
      "[1]\n"
     ]
    }
   ],
   "source": [
    "# Predictions: merge predicted classification and the probability to each class into the orignal table\n",
    "predictions=mlp.predict(X_test)\n",
    "print(predictions)\n"
   ]
  },
  {
   "cell_type": "code",
   "execution_count": 8,
   "metadata": {},
   "outputs": [
    {
     "name": "stdout",
     "output_type": "stream",
     "text": [
      "[[1]]\n",
      "              precision    recall  f1-score   support\n",
      "\n",
      "           1       1.00      1.00      1.00         1\n",
      "\n",
      "    accuracy                           1.00         1\n",
      "   macro avg       1.00      1.00      1.00         1\n",
      "weighted avg       1.00      1.00      1.00         1\n",
      "\n"
     ]
    }
   ],
   "source": [
    "# print the confusion_matrix and classification_report\n",
    "print(confusion_matrix(y_test, predictions))\n",
    "print(classification_report(y_test, predictions))"
   ]
  },
  {
   "cell_type": "code",
   "execution_count": 9,
   "metadata": {},
   "outputs": [],
   "source": [
    "# Interpret your results:\n",
    "#It's over fitting?\n",
    "\n",
    "# Lesson learned from this excercise:\n",
    "\n"
   ]
  },
  {
   "cell_type": "markdown",
   "metadata": {},
   "source": [
    "# Car Sales"
   ]
  },
  {
   "cell_type": "markdown",
   "metadata": {},
   "source": [
    "Consider the data on used cars (_toyotacorolla.csv_) with 1436 records and details on 38 attributes, including Price, Age, KM, HP, and other specifcations. The goal is to predict the price of a used Toyota Corolla based on its specifcations.\n",
    "\n",
    "Use predictors Age_08_04, KM, Fuel_Type, HP, Automatic, Doors, Quarterly_Tax, Mfr_Guarantee, Guarantee_Period, Airco, Automatic_airco, CD_Player, Powered_Windows, Sport_Model, and Tow_Bar.\n",
    "\n",
    "__Data Preprocessing.__ TUse the scikit-learn transformer _MinMaxScaler()_ to scale the data to the range [0, 1]. Use separate transformer for the input and output data. To create the dummy variables, use the pandas function _pd.get_dummies()_. Partition the data into training (60%) and validation (40%) sets."
   ]
  },
  {
   "cell_type": "markdown",
   "metadata": {},
   "source": [
    "## Data Preprocessing"
   ]
  },
  {
   "cell_type": "code",
   "execution_count": 4,
   "metadata": {},
   "outputs": [
    {
     "name": "stdout",
     "output_type": "stream",
     "text": [
      "(1436, 39)\n",
      "Id                   1436\n",
      "Model                1436\n",
      "Price                1436\n",
      "Age_08_04            1436\n",
      "Mfg_Month            1436\n",
      "Mfg_Year             1436\n",
      "KM                   1436\n",
      "Fuel_Type            1436\n",
      "HP                   1436\n",
      "Met_Color            1436\n",
      "Color                1436\n",
      "Automatic            1436\n",
      "CC                   1436\n",
      "Doors                1436\n",
      "Cylinders            1436\n",
      "Gears                1436\n",
      "Quarterly_Tax        1436\n",
      "Weight               1436\n",
      "Mfr_Guarantee        1436\n",
      "BOVAG_Guarantee      1436\n",
      "Guarantee_Period     1436\n",
      "ABS                  1436\n",
      "Airbag_1             1436\n",
      "Airbag_2             1436\n",
      "Airco                1436\n",
      "Automatic_airco      1436\n",
      "Boardcomputer        1436\n",
      "CD_Player            1436\n",
      "Central_Lock         1436\n",
      "Powered_Windows      1436\n",
      "Power_Steering       1436\n",
      "Radio                1436\n",
      "Mistlamps            1436\n",
      "Sport_Model          1436\n",
      "Backseat_Divider     1436\n",
      "Metallic_Rim         1436\n",
      "Radio_cassette       1436\n",
      "Parking_Assistant    1436\n",
      "Tow_Bar              1436\n",
      "dtype: int64\n",
      "                    count          mean           std     min       25%  \\\n",
      "Id                 1436.0    721.555014    416.476890     1.0    361.75   \n",
      "Price              1436.0  10730.824513   3626.964585  4350.0   8450.00   \n",
      "Age_08_04          1436.0     55.947075     18.599988     1.0     44.00   \n",
      "Mfg_Month          1436.0      5.548747      3.354085     1.0      3.00   \n",
      "Mfg_Year           1436.0   1999.625348      1.540722  1998.0   1998.00   \n",
      "KM                 1436.0  68533.259749  37506.448872     1.0  43000.00   \n",
      "HP                 1436.0    101.502089     14.981080    69.0     90.00   \n",
      "Met_Color          1436.0      0.674791      0.468616     0.0      0.00   \n",
      "Automatic          1436.0      0.055710      0.229441     0.0      0.00   \n",
      "CC                 1436.0   1576.855850    424.386770  1300.0   1400.00   \n",
      "Doors              1436.0      4.033426      0.952677     2.0      3.00   \n",
      "Cylinders          1436.0      4.000000      0.000000     4.0      4.00   \n",
      "Gears              1436.0      5.026462      0.188510     3.0      5.00   \n",
      "Quarterly_Tax      1436.0     87.122563     41.128611    19.0     69.00   \n",
      "Weight             1436.0   1072.459610     52.641120  1000.0   1040.00   \n",
      "Mfr_Guarantee      1436.0      0.409471      0.491907     0.0      0.00   \n",
      "BOVAG_Guarantee    1436.0      0.895543      0.305959     0.0      1.00   \n",
      "Guarantee_Period   1436.0      3.815460      3.011025     3.0      3.00   \n",
      "ABS                1436.0      0.813370      0.389750     0.0      1.00   \n",
      "Airbag_1           1436.0      0.970752      0.168559     0.0      1.00   \n",
      "Airbag_2           1436.0      0.722841      0.447751     0.0      0.00   \n",
      "Airco              1436.0      0.508357      0.500104     0.0      0.00   \n",
      "Automatic_airco    1436.0      0.056407      0.230786     0.0      0.00   \n",
      "Boardcomputer      1436.0      0.294568      0.456007     0.0      0.00   \n",
      "CD_Player          1436.0      0.218663      0.413483     0.0      0.00   \n",
      "Central_Lock       1436.0      0.580084      0.493717     0.0      0.00   \n",
      "Powered_Windows    1436.0      0.561978      0.496317     0.0      0.00   \n",
      "Power_Steering     1436.0      0.977716      0.147657     0.0      1.00   \n",
      "Radio              1436.0      0.146240      0.353469     0.0      0.00   \n",
      "Mistlamps          1436.0      0.256964      0.437111     0.0      0.00   \n",
      "Sport_Model        1436.0      0.300139      0.458478     0.0      0.00   \n",
      "Backseat_Divider   1436.0      0.770195      0.420854     0.0      1.00   \n",
      "Metallic_Rim       1436.0      0.204735      0.403649     0.0      0.00   \n",
      "Radio_cassette     1436.0      0.145543      0.352770     0.0      0.00   \n",
      "Parking_Assistant  1436.0      0.002786      0.052723     0.0      0.00   \n",
      "Tow_Bar            1436.0      0.277855      0.448098     0.0      0.00   \n",
      "\n",
      "                       50%       75%       max  \n",
      "Id                   721.5   1081.25    1442.0  \n",
      "Price               9900.0  11950.00   32500.0  \n",
      "Age_08_04             61.0     70.00      80.0  \n",
      "Mfg_Month              5.0      8.00      12.0  \n",
      "Mfg_Year            1999.0   2001.00    2004.0  \n",
      "KM                 63389.5  87020.75  243000.0  \n",
      "HP                   110.0    110.00     192.0  \n",
      "Met_Color              1.0      1.00       1.0  \n",
      "Automatic              0.0      0.00       1.0  \n",
      "CC                  1600.0   1600.00   16000.0  \n",
      "Doors                  4.0      5.00       5.0  \n",
      "Cylinders              4.0      4.00       4.0  \n",
      "Gears                  5.0      5.00       6.0  \n",
      "Quarterly_Tax         85.0     85.00     283.0  \n",
      "Weight              1070.0   1085.00    1615.0  \n",
      "Mfr_Guarantee          0.0      1.00       1.0  \n",
      "BOVAG_Guarantee        1.0      1.00       1.0  \n",
      "Guarantee_Period       3.0      3.00      36.0  \n",
      "ABS                    1.0      1.00       1.0  \n",
      "Airbag_1               1.0      1.00       1.0  \n",
      "Airbag_2               1.0      1.00       1.0  \n",
      "Airco                  1.0      1.00       1.0  \n",
      "Automatic_airco        0.0      0.00       1.0  \n",
      "Boardcomputer          0.0      1.00       1.0  \n",
      "CD_Player              0.0      0.00       1.0  \n",
      "Central_Lock           1.0      1.00       1.0  \n",
      "Powered_Windows        1.0      1.00       1.0  \n",
      "Power_Steering         1.0      1.00       1.0  \n",
      "Radio                  0.0      0.00       1.0  \n",
      "Mistlamps              0.0      1.00       1.0  \n",
      "Sport_Model            0.0      1.00       1.0  \n",
      "Backseat_Divider       1.0      1.00       1.0  \n",
      "Metallic_Rim           0.0      0.00       1.0  \n",
      "Radio_cassette         0.0      0.00       1.0  \n",
      "Parking_Assistant      0.0      0.00       1.0  \n",
      "Tow_Bar                0.0      1.00       1.0  \n"
     ]
    }
   ],
   "source": [
    "# load the data\n",
    "# explore the data\n",
    "toyotacorolla_df=pd.read_csv(\"toyotacorolla.csv\")\n",
    "print(toyotacorolla_df.shape)\n",
    "print(toyotacorolla_df.count())\n",
    "print(toyotacorolla_df.describe().transpose())"
   ]
  },
  {
   "cell_type": "code",
   "execution_count": 5,
   "metadata": {},
   "outputs": [
    {
     "name": "stdout",
     "output_type": "stream",
     "text": [
      "   CNG  Diesel  Petrol\n",
      "0    0       1       0\n",
      "1    0       1       0\n",
      "2    0       1       0\n"
     ]
    }
   ],
   "source": [
    "# convert the categorical data Fuel_type into dummy variables\n",
    "dummy_Fuel_Type=pd.get_dummies(toyotacorolla_df['Fuel_Type'])\n",
    "\n",
    "print(dummy_Fuel_Type.head(3))\n",
    "\n",
    "toyotacorolla_df = pd.concat([toyotacorolla_df,dummy_Fuel_Type],axis=1)"
   ]
  },
  {
   "cell_type": "code",
   "execution_count": 13,
   "metadata": {},
   "outputs": [],
   "source": [
    "# separate out predictors and response variables\n",
    "# Do we need to standardize both predictors and outcome or just one of thoese two?\n",
    "# normalize the data \n",
    "X=toyotacorolla_df[['Age_08_04', 'KM', 'CNG','Diesel','Petrol', 'HP', 'Automatic', 'Doors', 'Quarterly_Tax', 'Mfr_Guarantee', 'Guarantee_Period', 'Airco', 'Automatic_airco', 'CD_Player', 'Powered_Windows', 'Sport_Model', 'Tow_Bar']]\n",
    "y=toyotacorolla_df['Price']\n",
    "\n",
    "\n",
    "scaler=StandardScaler()\n",
    "scaler.fit(X)\n",
    "X=scaler.transform(X)\n",
    "# we only need to standardize X."
   ]
  },
  {
   "cell_type": "code",
   "execution_count": 17,
   "metadata": {},
   "outputs": [
    {
     "name": "stdout",
     "output_type": "stream",
     "text": [
      "(861, 17) (575, 17)\n"
     ]
    }
   ],
   "source": [
    "# partition data\n",
    "X_training, X_valid, y_training, y_valid = train_test_split(X, y, test_size=.4, random_state=12)\n",
    "print(X_training.shape, X_valid.shape)\n",
    "\n"
   ]
  },
  {
   "cell_type": "code",
   "execution_count": 15,
   "metadata": {},
   "outputs": [
    {
     "data": {
      "text/plain": [
       "MLPRegressor(hidden_layer_sizes=(5, 5), max_iter=10000)"
      ]
     },
     "execution_count": 15,
     "metadata": {},
     "output_type": "execute_result"
    }
   ],
   "source": [
    "# train neural network with 2 layers of 5 hidden nodes on each layer\n",
    "# don't forget to bring y_train back to a single array use dataframename.ravel() in the model fit.\n",
    "toyotacorolla_mlp=MLPRegressor(hidden_layer_sizes=(5,5), max_iter=10000)\n",
    "toyotacorolla_mlp.fit(X_training, y_training.ravel())"
   ]
  },
  {
   "cell_type": "code",
   "execution_count": 16,
   "metadata": {},
   "outputs": [
    {
     "name": "stdout",
     "output_type": "stream",
     "text": [
      "0.8694980465286769\n",
      "0.9107305097948526\n"
     ]
    }
   ],
   "source": [
    "# Calculate predictions on validation dataset.\n",
    "# compute model accuracy using .score()\n",
    "y_predict=toyotacorolla_mlp.predict(X_valid)\n",
    "\n",
    "print(toyotacorolla_mlp.score(X_valid, y_valid))\n",
    "print(toyotacorolla_mlp.score(X_training, y_training))"
   ]
  },
  {
   "cell_type": "code",
   "execution_count": 23,
   "metadata": {},
   "outputs": [
    {
     "name": "stdout",
     "output_type": "stream",
     "text": [
      "Hidden layer 2 => 3\n",
      " Intercepts:\n",
      "  [-1.05018984  1.01083091 -0.74328605]\n",
      " Weights:\n",
      "  [ 3.84666335 -3.46430064  2.85409368]\n",
      "  [ 2.62543266 -2.52332552  2.29352759]\n",
      "\n",
      "Output layer 3 => 1\n",
      " Intercepts:\n",
      "  [-3.03437227]\n",
      " Weights:\n",
      "  [7.84086078]\n",
      "  [-7.75163921]\n",
      "  [5.36739226]\n",
      "\n"
     ]
    }
   ],
   "source": [
    "# Network structure\n",
    "# Hint: sample code given in in class exercise\n",
    "for i, (weights, intercepts) in enumerate(zip(mlp.coefs_, mlp.intercepts_)):\n",
    "    print('Hidden layer' if i == 0 else 'Output layer', '{0[0]} => {0[1]}'.format(weights.shape))\n",
    "    print(' Intercepts:\\n ', intercepts)\n",
    "    print(' Weights:')\n",
    "    for weight in weights:\n",
    "        print(' ', weight)\n",
    "    print()"
   ]
  },
  {
   "cell_type": "code",
   "execution_count": 17,
   "metadata": {},
   "outputs": [],
   "source": [
    "# Can we print out the confusion_matrix and classification_report?\n",
    "# If you can, show us the print out. If you cannot, can you explain why?\n",
    "# we can't it's something about using the MLPRegressor vs MLPClassifier"
   ]
  },
  {
   "cell_type": "code",
   "execution_count": 18,
   "metadata": {},
   "outputs": [],
   "source": [
    "# Interpret your results:\n",
    "#this model although needs more iterations, can fairly accurately pick the price of car.\n",
    "# Lesson learned from this excercise:\n",
    "\n",
    "\n"
   ]
  },
  {
   "cell_type": "code",
   "execution_count": null,
   "metadata": {},
   "outputs": [],
   "source": []
  }
 ],
 "metadata": {
  "kernelspec": {
   "display_name": "Python 3",
   "language": "python",
   "name": "python3"
  },
  "language_info": {
   "codemirror_mode": {
    "name": "ipython",
    "version": 3
   },
   "file_extension": ".py",
   "mimetype": "text/x-python",
   "name": "python",
   "nbconvert_exporter": "python",
   "pygments_lexer": "ipython3",
   "version": "3.8.3"
  }
 },
 "nbformat": 4,
 "nbformat_minor": 4
}
